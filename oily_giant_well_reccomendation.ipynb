{
 "cells": [
  {
   "cell_type": "markdown",
   "metadata": {},
   "source": [
    "# Oily Giant New Well Prediction"
   ]
  },
  {
   "cell_type": "markdown",
   "metadata": {},
   "source": [
    "## Download and prepare data"
   ]
  },
  {
   "cell_type": "code",
   "execution_count": 1,
   "metadata": {},
   "outputs": [
    {
     "name": "stdout",
     "output_type": "stream",
     "text": [
      "Region 1\n",
      "--------\n",
      "      id        f0        f1        f2     product\n",
      "0  txEyH  0.705745 -0.497823  1.221170  105.280062\n",
      "1  2acmU  1.334711 -0.340164  4.365080   73.037750\n",
      "2  409Wp  1.022732  0.151990  1.419926   85.265647\n",
      "3  iJLyR -0.032172  0.139033  2.978566  168.620776\n",
      "4  Xdl7t  1.988431  0.155413  4.751769  154.036647\n",
      "<class 'pandas.core.frame.DataFrame'>\n",
      "RangeIndex: 100000 entries, 0 to 99999\n",
      "Data columns (total 5 columns):\n",
      " #   Column   Non-Null Count   Dtype  \n",
      "---  ------   --------------   -----  \n",
      " 0   id       100000 non-null  object \n",
      " 1   f0       100000 non-null  float64\n",
      " 2   f1       100000 non-null  float64\n",
      " 3   f2       100000 non-null  float64\n",
      " 4   product  100000 non-null  float64\n",
      "dtypes: float64(4), object(1)\n",
      "memory usage: 3.8+ MB\n",
      "None\n"
     ]
    }
   ],
   "source": [
    "import pandas as pd\n",
    "\n",
    "region_1 = pd.read_csv('geo_data_0.csv')\n",
    "\n",
    "print(\"Region 1\")\n",
    "print(\"--------\")\n",
    "print(region_1.head())\n",
    "print(region_1.info())"
   ]
  },
  {
   "cell_type": "code",
   "execution_count": 2,
   "metadata": {
    "scrolled": true
   },
   "outputs": [
    {
     "name": "stdout",
     "output_type": "stream",
     "text": [
      "Region 2\n",
      "--------\n",
      "      id         f0         f1        f2     product\n",
      "0  kBEdx -15.001348  -8.276000 -0.005876    3.179103\n",
      "1  62mP7  14.272088  -3.475083  0.999183   26.953261\n",
      "2  vyE1P   6.263187  -5.948386  5.001160  134.766305\n",
      "3  KcrkZ -13.081196 -11.506057  4.999415  137.945408\n",
      "4  AHL4O  12.702195  -8.147433  5.004363  134.766305\n",
      "<class 'pandas.core.frame.DataFrame'>\n",
      "RangeIndex: 100000 entries, 0 to 99999\n",
      "Data columns (total 5 columns):\n",
      " #   Column   Non-Null Count   Dtype  \n",
      "---  ------   --------------   -----  \n",
      " 0   id       100000 non-null  object \n",
      " 1   f0       100000 non-null  float64\n",
      " 2   f1       100000 non-null  float64\n",
      " 3   f2       100000 non-null  float64\n",
      " 4   product  100000 non-null  float64\n",
      "dtypes: float64(4), object(1)\n",
      "memory usage: 3.8+ MB\n",
      "None\n"
     ]
    }
   ],
   "source": [
    "region_2 = pd.read_csv('geo_data_1.csv')\n",
    "\n",
    "print(\"Region 2\")\n",
    "print(\"--------\")\n",
    "print(region_2.head())\n",
    "print(region_2.info())"
   ]
  },
  {
   "cell_type": "code",
   "execution_count": 3,
   "metadata": {},
   "outputs": [
    {
     "name": "stdout",
     "output_type": "stream",
     "text": [
      "Region 3\n",
      "--------\n",
      "      id        f0        f1        f2     product\n",
      "0  fwXo0 -1.146987  0.963328 -0.828965   27.758673\n",
      "1  WJtFt  0.262778  0.269839 -2.530187   56.069697\n",
      "2  ovLUW  0.194587  0.289035 -5.586433   62.871910\n",
      "3  q6cA6  2.236060 -0.553760  0.930038  114.572842\n",
      "4  WPMUX -0.515993  1.716266  5.899011  149.600746\n",
      "<class 'pandas.core.frame.DataFrame'>\n",
      "RangeIndex: 100000 entries, 0 to 99999\n",
      "Data columns (total 5 columns):\n",
      " #   Column   Non-Null Count   Dtype  \n",
      "---  ------   --------------   -----  \n",
      " 0   id       100000 non-null  object \n",
      " 1   f0       100000 non-null  float64\n",
      " 2   f1       100000 non-null  float64\n",
      " 3   f2       100000 non-null  float64\n",
      " 4   product  100000 non-null  float64\n",
      "dtypes: float64(4), object(1)\n",
      "memory usage: 3.8+ MB\n",
      "None\n"
     ]
    }
   ],
   "source": [
    "region_3 = pd.read_csv('geo_data_2.csv')\n",
    "\n",
    "print(\"Region 3\")\n",
    "print(\"--------\")\n",
    "print(region_3.head())\n",
    "print(region_3.info())"
   ]
  },
  {
   "cell_type": "markdown",
   "metadata": {},
   "source": [
    "I downloaded each data from and put them each into a sperate data frame for further calculations. I printed the first five rows in the data frame info to make sure there were no null values and to determine which values will be my features and my target. "
   ]
  },
  {
   "cell_type": "markdown",
   "metadata": {},
   "source": [
    "## Predicting oil reserves for each region."
   ]
  },
  {
   "cell_type": "code",
   "execution_count": 4,
   "metadata": {},
   "outputs": [],
   "source": [
    "from sklearn.model_selection import train_test_split\n",
    "from sklearn.linear_model import LinearRegression\n",
    "from sklearn.metrics import mean_squared_error\n"
   ]
  },
  {
   "cell_type": "markdown",
   "metadata": {},
   "source": [
    "### Region 1"
   ]
  },
  {
   "cell_type": "code",
   "execution_count": 5,
   "metadata": {},
   "outputs": [
    {
     "name": "stdout",
     "output_type": "stream",
     "text": [
      "Region 1 Avg volume = 92.59256778438038\n",
      "Region 1 RMSE = 37.5794217150813\n"
     ]
    }
   ],
   "source": [
    "r1_train, r1_valid = train_test_split(region_1, test_size=0.25, random_state=12345)\n",
    "\n",
    "r1_train_features = r1_train[['f0', 'f1', 'f2']]\n",
    "r1_train_target = r1_train['product']\n",
    "r1_valid_features = r1_valid[['f0', 'f1', 'f2']]\n",
    "r1_valid_target = r1_valid['product']\n",
    "\n",
    "r1_model = LinearRegression()\n",
    "r1_model.fit(r1_train_features, r1_train_target)\n",
    "r1_predicted_valid = r1_model.predict(r1_valid_features)\n",
    "\n",
    "r1_mse = mean_squared_error(r1_valid_target, r1_predicted_valid)\n",
    "r1_avg_volume = r1_predicted_valid.mean()\n",
    "\n",
    "print(\"Region 1 Avg volume =\", r1_avg_volume)\n",
    "print(\"Region 1 RMSE =\", r1_mse ** 0.5)"
   ]
  },
  {
   "cell_type": "markdown",
   "metadata": {},
   "source": [
    "### Region 2"
   ]
  },
  {
   "cell_type": "code",
   "execution_count": 6,
   "metadata": {},
   "outputs": [
    {
     "name": "stdout",
     "output_type": "stream",
     "text": [
      "Region 2 Avg volume = 68.72854689544602\n",
      "Region 2 RMSE = 0.8930992867756158\n"
     ]
    }
   ],
   "source": [
    "r2_train, r2_valid = train_test_split(region_2, test_size=0.25, random_state=12345)\n",
    "\n",
    "r2_train_features = r2_train[['f0', 'f1', 'f2']]\n",
    "r2_train_target = r2_train['product']\n",
    "r2_valid_features = r2_valid[['f0', 'f1', 'f2']]\n",
    "r2_valid_target = r2_valid['product']\n",
    "\n",
    "r2_model = LinearRegression()\n",
    "r2_model.fit(r2_train_features, r2_train_target)\n",
    "r2_predicted_valid = r2_model.predict(r2_valid_features)\n",
    "\n",
    "r2_mse = mean_squared_error(r2_valid_target, r2_predicted_valid)\n",
    "r2_avg_volume = r2_predicted_valid.mean()\n",
    "\n",
    "print(\"Region 2 Avg volume =\", r2_avg_volume)\n",
    "print(\"Region 2 RMSE =\", r2_mse ** 0.5)"
   ]
  },
  {
   "cell_type": "markdown",
   "metadata": {},
   "source": [
    "### Region 3"
   ]
  },
  {
   "cell_type": "code",
   "execution_count": 7,
   "metadata": {},
   "outputs": [
    {
     "name": "stdout",
     "output_type": "stream",
     "text": [
      "Region 3 Avg volume = 94.96504596800489\n",
      "Region 3 RMSE = 40.02970873393434\n"
     ]
    }
   ],
   "source": [
    "r3_train, r3_valid = train_test_split(region_3, test_size=0.25, random_state=12345)\n",
    "\n",
    "r3_train_features = r3_train[['f0', 'f1', 'f2']]\n",
    "r3_train_target = r3_train['product']\n",
    "r3_valid_features = r3_valid[['f0', 'f1', 'f2']]\n",
    "r3_valid_target = r3_valid['product']\n",
    "\n",
    "r3_model = LinearRegression()\n",
    "r3_model.fit(r3_train_features, r3_train_target)\n",
    "r3_predicted_valid = r3_model.predict(r3_valid_features)\n",
    "\n",
    "r3_mse = mean_squared_error(r3_valid_target, r3_predicted_valid)\n",
    "r3_avg_volume = r3_predicted_valid.mean()\n",
    "\n",
    "print(\"Region 3 Avg volume =\", r3_avg_volume)\n",
    "print(\"Region 3 RMSE =\", r3_mse ** 0.5)"
   ]
  },
  {
   "cell_type": "markdown",
   "metadata": {},
   "source": [
    "For this task I split the datafor each region into a training and validation set, then defined my festues and target for each set. I then trained three seperate models, one for each region. I predicted the average volume and determined the RMSE for each region. The third region had the highest average volume, however the RMSE was very high. This means that the region can be very unpredictable in terms of volume of reserves in the well. Region number 2 Preformed the best in terms of RMSE meaning the average volume is very predictable."
   ]
  },
  {
   "cell_type": "markdown",
   "metadata": {},
   "source": [
    "## Prepare for profit calculation"
   ]
  },
  {
   "cell_type": "code",
   "execution_count": 22,
   "metadata": {},
   "outputs": [
    {
     "name": "stdout",
     "output_type": "stream",
     "text": [
      "Cost per well = 500000.0\n",
      "Minimum volume for profit (per unit) = 111.11111111111111\n"
     ]
    }
   ],
   "source": [
    "\n",
    "r1_revenue = r1_avg_volume * 4500\n",
    "r2_revenue = r2_avg_volume * 4500\n",
    "r3_revenue = r3_avg_volume * 4500\n",
    "\n",
    "revenue_per_unit = 4500\n",
    "cost = 100000000\n",
    "cost_per_well = 100000000 / 200\n",
    "\n",
    "print(\"Cost per well =\", cost_per_well)\n",
    "print(\"Minimum volume for profit (per unit) =\", ((cost / 200) / revenue_per_unit))\n"
   ]
  },
  {
   "cell_type": "markdown",
   "metadata": {},
   "source": [
    "I found that the minimum volume for a well to be considered profitable is about 112,000 barrels. The cost to build one well is about 500,000 USD 112,000 barrels will bring in 504,000 USD in revenue."
   ]
  },
  {
   "cell_type": "markdown",
   "metadata": {},
   "source": [
    "## Calculate profit from a set of selected oil wells and model predictions"
   ]
  },
  {
   "cell_type": "code",
   "execution_count": 24,
   "metadata": {},
   "outputs": [
    {
     "name": "stdout",
     "output_type": "stream",
     "text": [
      "Region 1 projected profit = 6790688.578924239\n",
      "Region 2 projected profit = 7794798.84176816\n",
      "Region 3 projected profit = 4399901.430221811\n"
     ]
    }
   ],
   "source": [
    "def well_profit(target_valid, predicted_valid):\n",
    "    predicted_valid = pd.Series(predicted_valid, index=target_valid.index)\n",
    "    sample = predicted_valid.sample(n=500, random_state=12345)\n",
    "    top_200 = sample.nlargest(200)\n",
    "    target_200 = target_valid.loc[top_200.index]\n",
    "    profit = target_200.sum() * revenue_per_unit - cost\n",
    "    return profit\n",
    "\n",
    "r1_profit = well_profit(r1_valid_target, r1_predicted_valid)\n",
    "r2_profit = well_profit(r2_valid_target, r2_predicted_valid)\n",
    "r3_profit = well_profit(r3_valid_target, r3_predicted_valid)\n",
    "\n",
    "print(\"Region 1 projected profit =\", r1_profit)\n",
    "print(\"Region 2 projected profit =\", r2_profit)\n",
    "print(\"Region 3 projected profit =\", r3_profit)"
   ]
  },
  {
   "cell_type": "markdown",
   "metadata": {},
   "source": [
    "I created a function that will find the projected profit of each region by taking the top 200 wells in each regions predictions and I found the the second region had the highest projected profit. I would reccomed the second region based off of this calculation."
   ]
  },
  {
   "cell_type": "markdown",
   "metadata": {},
   "source": [
    "## Calculate risks and profit for each region"
   ]
  },
  {
   "cell_type": "markdown",
   "metadata": {},
   "source": [
    "### Region 1"
   ]
  },
  {
   "cell_type": "code",
   "execution_count": 17,
   "metadata": {},
   "outputs": [
    {
     "name": "stdout",
     "output_type": "stream",
     "text": [
      "Average profit = 6007352.442611662\n",
      "95% confidence interval: 129483.3113511391 - 12311636.057914983\n",
      "Probabillity of a loss: 2.0%\n"
     ]
    }
   ],
   "source": [
    "import numpy as np\n",
    "\n",
    "state = np.random.RandomState(12345)\n",
    "    \n",
    "r1_values = []\n",
    "for i in range(1000):\n",
    "    target_subsample = r1_valid_target.sample(n=500, replace=True, random_state=state)\n",
    "    pred_subsample = r1_predicted_valid = pd.Series(r1_predicted_valid, index=r1_valid_target.index)\n",
    "    \n",
    "    r1_values.append(well_profit(target_subsample, pred_subsample))\n",
    "    \n",
    "r1_values = pd.Series(r1_values)\n",
    "mean = r1_values.mean()\n",
    "print(\"Average profit =\", mean)\n",
    "\n",
    "r1_lower = r1_values.quantile(0.025)\n",
    "r1_upper = r1_values.quantile(0.975)\n",
    "print(\"95% confidence interval:\", r1_lower, \"-\", r1_upper)\n",
    "\n",
    "r1_losses = r1_values[r1_values < 0].count()\n",
    "r1_loss_prob = r1_losses / 1000\n",
    "print(\"Probabillity of a loss: {:.1%}\".format(r1_loss_prob))"
   ]
  },
  {
   "cell_type": "markdown",
   "metadata": {},
   "source": [
    "### Region 2"
   ]
  },
  {
   "cell_type": "code",
   "execution_count": 18,
   "metadata": {},
   "outputs": [
    {
     "name": "stdout",
     "output_type": "stream",
     "text": [
      "Average profit = 6652410.5822107205\n",
      "95% confidence interval: 1579884.8131991457 , 11976415.874631526\n",
      "Probabillity of a loss: 0.3%\n"
     ]
    }
   ],
   "source": [
    "state = np.random.RandomState(12345)\n",
    "r2_values = []\n",
    "for i in range(1000):\n",
    "    target_subsample = r2_valid_target.sample(n=500, replace=True, random_state=state)\n",
    "    pred_subsample = r2_predicted_valid = pd.Series(r2_predicted_valid, index=r2_valid_target.index)\n",
    "    \n",
    "    r2_values.append(well_profit(target_subsample, pred_subsample))\n",
    "    \n",
    "r2_values = pd.Series(r2_values)\n",
    "mean = r2_values.mean()\n",
    "print(\"Average profit =\", mean)\n",
    "\n",
    "r2_lower = r2_values.quantile(0.025)\n",
    "r2_upper = r2_values.quantile(0.975)\n",
    "print(\"95% confidence interval:\", r2_lower, \",\", r2_upper)\n",
    "\n",
    "r2_losses = r2_values[r2_values < 0].count()\n",
    "r2_loss_prob = r2_losses / 1000\n",
    "print(\"Probabillity of a loss: {:.1%}\".format(r2_loss_prob))"
   ]
  },
  {
   "cell_type": "markdown",
   "metadata": {},
   "source": [
    "### Region 3"
   ]
  },
  {
   "cell_type": "code",
   "execution_count": 12,
   "metadata": {},
   "outputs": [
    {
     "name": "stdout",
     "output_type": "stream",
     "text": [
      "Average profit = 6155597.228409678\n",
      "95% confidence interval : -122184.95237293163 - 12306444.739413176\n",
      "Probabillity of a loss: 3.0%\n"
     ]
    }
   ],
   "source": [
    "state = np.random.RandomState(12345)\n",
    "r3_values = []\n",
    "for i in range(1000):\n",
    "    target_subsample = r3_valid_target.sample(n=500, replace=True, random_state=state)\n",
    "    pred_subsample = r3_predicted_valid = pd.Series(r3_predicted_valid, index=r3_valid_target.index)\n",
    "    \n",
    "    r3_values.append(well_profit(target_subsample, pred_subsample))\n",
    "    \n",
    "r3_values = pd.Series(r3_values)\n",
    "mean = r3_values.mean()\n",
    "print(\"Average profit =\", mean)\n",
    "\n",
    "r3_lower = r3_values.quantile(0.025)\n",
    "r3_upper = r3_values.quantile(0.975)\n",
    "print(\"95% confidence interval :\", r3_lower, \"-\", r3_upper)\n",
    "\n",
    "r3_losses = r3_values[r3_values < 0].count()\n",
    "r3_loss_prob = r3_losses / 1000\n",
    "print(\"Probabillity of a loss: {:.1%}\".format(r3_loss_prob))"
   ]
  },
  {
   "cell_type": "markdown",
   "metadata": {},
   "source": [
    "I used bootstrapping to calculate the average profit and risk of loss for each region. I found that the risk of a loss for region 3 is to high to justify development. Region one has a lower chance of a loss however the distribution shows that 2.5 % chance that you will only have a profit of only 129,483 USD, and when you consider an investment of 100,000,000 USD that profit margin is not high enough. Region two is the Region with the greatest potential. There is a 97.5% chance that you will have a profit of 1,579,885 USD or higher, and the chance of a loss is only 0.3%. I would reccomend developing the oil wells in region 2."
   ]
  }
 ],
 "metadata": {
  "kernelspec": {
   "display_name": "Python 3",
   "language": "python",
   "name": "python3"
  },
  "language_info": {
   "codemirror_mode": {
    "name": "ipython",
    "version": 3
   },
   "file_extension": ".py",
   "mimetype": "text/x-python",
   "name": "python",
   "nbconvert_exporter": "python",
   "pygments_lexer": "ipython3",
   "version": "3.7.6"
  }
 },
 "nbformat": 4,
 "nbformat_minor": 4
}
